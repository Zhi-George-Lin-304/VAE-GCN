{
 "cells": [
  {
   "cell_type": "code",
   "execution_count": null,
   "id": "2a7ab516-3c1f-4b6c-9b58-ca89d84d3f69",
   "metadata": {},
   "outputs": [],
   "source": [
    "import torch\n",
    "from torch.utils.data import DataLoader\n",
    "from datasets.dataset_utils import *\n",
    "from utils.feature_utils import generate_feature_matrix\n",
    "from utils.adjacency_utils import generate_adjacency_matrix\n",
    "\n",
    "# Path to the CSV file containing the data\n",
    "csv_file = 'C:/Users/user/Downloads/VAE_GCN/CSD_EES_DB_with_ST_split.csv'\n",
    "target_col = 'ST_split'  # Column to use as target (replace with your target column)\n",
    "\n",
    "# Initialize the dataset\n",
    "dataset = MolecularDataset(csv_file=csv_file, target_col=target_col)\n",
    "\n",
    "# Create a DataLoader to iterate through the dataset\n",
    "dataloader = DataLoader(dataset, batch_size=4, shuffle=True)\n",
    "\n",
    "# Test the dataset by iterating over it\n",
    "for i, (adj_normalized, features, num_atoms, target, idx) in enumerate(dataloader):\n",
    "    print(f\"Batch {i+1}\")\n",
    "    print(\"Adjacency Matrix (normalized):\")\n",
    "    print(adj_normalized.shape)\n",
    "    print(\"Features Matrix:\")\n",
    "    print(features.shape)\n",
    "    print(\"Number of Atoms:\", num_atoms)\n",
    "    print(\"Target:\", target)\n",
    "    print(\"Index:\", idx)\n",
    "\n",
    "    # Optionally print the first sample in the batch to inspect\n",
    "    if i == 0:\n",
    "        print(\"\\nFirst Sample in the Batch:\")\n",
    "        print(\"Adjacency Matrix:\", adj_normalized[0])\n",
    "        print(\"Feature Matrix:\", features[0])\n",
    "        print(\"Target:\", target[0])\n",
    "        print(\"Index:\", idx[0])\n",
    "    \n",
    "    print('-' * 40)\n",
    "    if i >= 2:  # Limit to a few batches for testing\n",
    "        break\n"
   ]
  }
 ],
 "metadata": {
  "kernelspec": {
   "display_name": "Python 3 (ipykernel)",
   "language": "python",
   "name": "python3"
  },
  "language_info": {
   "codemirror_mode": {
    "name": "ipython",
    "version": 3
   },
   "file_extension": ".py",
   "mimetype": "text/x-python",
   "name": "python",
   "nbconvert_exporter": "python",
   "pygments_lexer": "ipython3",
   "version": "3.9.21"
  }
 },
 "nbformat": 4,
 "nbformat_minor": 5
}
